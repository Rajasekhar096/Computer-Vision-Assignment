{
 "cells": [
  {
   "cell_type": "code",
   "execution_count": 12,
   "metadata": {},
   "outputs": [],
   "source": [
    "import numpy as np\n",
    "import cv2\n",
    "\n",
    "# Load the image\n",
    "img = cv2.imread('assignment-2.jpg')\n",
    "\n",
    "# Get the height and width of the image\n",
    "height, width, _ = img.shape\n",
    "\n",
    "# Calculate the size of each crop\n",
    "crop_height = height // 6\n",
    "crop_width = width // 3\n",
    "\n",
    "# Create a list to store the cropped images\n",
    "cropped_images = []\n",
    "\n",
    "# Loop through each row\n",
    "for i in range(6):\n",
    "    # Loop through each column\n",
    "    for j in range(3):\n",
    "        # Calculate the start and end coordinates for the crop\n",
    "        start_row = i * crop_height\n",
    "        end_row = (i + 1) * crop_height\n",
    "        start_col = j * crop_width\n",
    "        end_col = (j + 1) * crop_width\n",
    "\n",
    "        # Crop the image\n",
    "        crop = img[start_row:end_row, start_col:end_col]\n",
    "\n",
    "        # Add the cropped image to the list\n",
    "        cropped_images.append(crop)\n",
    "\n",
    "# Save the cropped images to files\n",
    "for i, crop in enumerate(cropped_images):\n",
    "    cv2.imwrite(f'crop_{i+1}.jpg', crop)"
   ]
  },
  {
   "cell_type": "code",
   "execution_count": null,
   "metadata": {},
   "outputs": [],
   "source": []
  }
 ],
 "metadata": {
  "kernelspec": {
   "display_name": "Python 3",
   "language": "python",
   "name": "python3"
  },
  "language_info": {
   "codemirror_mode": {
    "name": "ipython",
    "version": 3
   },
   "file_extension": ".py",
   "mimetype": "text/x-python",
   "name": "python",
   "nbconvert_exporter": "python",
   "pygments_lexer": "ipython3",
   "version": "3.12.4"
  }
 },
 "nbformat": 4,
 "nbformat_minor": 2
}
